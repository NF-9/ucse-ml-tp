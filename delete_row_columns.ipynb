{
 "cells": [
  {
   "cell_type": "code",
   "execution_count": 129,
   "metadata": {},
   "outputs": [],
   "source": [
    "import pandas as pd\n",
    "import numpy as np\n",
    "%matplotlib inline\n",
    "import matplotlib.pyplot as plt"
   ]
  },
  {
   "cell_type": "code",
   "execution_count": 130,
   "metadata": {},
   "outputs": [],
   "source": [
    "df = pd.read_csv(\"bouts_out_new.csv\")"
   ]
  },
  {
   "cell_type": "code",
   "execution_count": 131,
   "metadata": {},
   "outputs": [],
   "source": [
    "rename_columns = {\n",
    "    'age_A': 'edad_a', 'age_B': 'edad_b', 'height_A': 'altura_a', \n",
    "    'height_B': 'altura_b', 'reach_A': 'alcance_mano_a',\n",
    "    'reach_B': 'alcance_mano_b', 'stance_A': 'posicion_a', 'stance_B': 'posicion_b',\n",
    "    'weight_A': 'peso_a', 'weight_B': 'peso_b', 'won_A': 'ganadas_a', 'won_B': 'ganadas_b',\n",
    "       'lost_A': 'perdidas_a', 'lost_B': 'perdidas_b', 'drawn_A': 'empatadas_a', 'drawn_B':'empatadas_b',\n",
    "    'kos_A': 'kos_a', 'kos_B': 'kos_b', 'result': 'resultado', 'decision': 'decision',\n",
    "    'judge1_A': 'juez1_a', 'judge1_B': 'juez1_b', 'judge2_A': 'juez2_a', 'judge2_B': 'juez2_b', \n",
    "    'judge3_A': 'juez3_a', 'judge3_B': 'juez3_b'\n",
    "}\n",
    "df.rename(columns=rename_columns, inplace=True)"
   ]
  },
  {
   "cell_type": "code",
   "execution_count": 132,
   "metadata": {},
   "outputs": [
    {
     "data": {
      "text/plain": [
       "(387427, 26)"
      ]
     },
     "execution_count": 132,
     "metadata": {},
     "output_type": "execute_result"
    }
   ],
   "source": [
    "df.shape"
   ]
  },
  {
   "cell_type": "code",
   "execution_count": 133,
   "metadata": {},
   "outputs": [
    {
     "data": {
      "text/plain": [
       "edad_a             34539\n",
       "edad_b            129492\n",
       "altura_a          138181\n",
       "altura_b          252787\n",
       "alcance_mano_a    275085\n",
       "alcance_mano_b    349554\n",
       "posicion_a        156418\n",
       "posicion_b        156418\n",
       "peso_a            251854\n",
       "peso_b            257069\n",
       "ganadas_a              0\n",
       "ganadas_b              0\n",
       "perdidas_a             0\n",
       "perdidas_b             0\n",
       "empatadas_a            0\n",
       "empatadas_b            0\n",
       "kos_a                  0\n",
       "kos_b                 79\n",
       "resultado              0\n",
       "decision               0\n",
       "juez1_a           335179\n",
       "juez1_b           335367\n",
       "juez2_a           317056\n",
       "juez2_b           317395\n",
       "juez3_a           326196\n",
       "juez3_b           326404\n",
       "dtype: int64"
      ]
     },
     "execution_count": 133,
     "metadata": {},
     "output_type": "execute_result"
    }
   ],
   "source": [
    "df.isnull().sum()"
   ]
  },
  {
   "cell_type": "markdown",
   "metadata": {},
   "source": [
    "## Nulos en edad"
   ]
  },
  {
   "cell_type": "markdown",
   "metadata": {},
   "source": [
    "Vamos a eliminar todas las columnas que tengan edad nula"
   ]
  },
  {
   "cell_type": "code",
   "execution_count": 134,
   "metadata": {},
   "outputs": [],
   "source": [
    "df = df.drop(df[(df['edad_a'].isnull()) | (df['edad_b'].isnull())].index)"
   ]
  },
  {
   "cell_type": "code",
   "execution_count": 135,
   "metadata": {},
   "outputs": [
    {
     "data": {
      "text/plain": [
       "(241695, 26)"
      ]
     },
     "execution_count": 135,
     "metadata": {},
     "output_type": "execute_result"
    }
   ],
   "source": [
    "df.shape"
   ]
  },
  {
   "cell_type": "code",
   "execution_count": 136,
   "metadata": {},
   "outputs": [
    {
     "data": {
      "text/plain": [
       "edad_a                 0\n",
       "edad_b                 0\n",
       "altura_a           71013\n",
       "altura_b          119218\n",
       "alcance_mano_a    161321\n",
       "alcance_mano_b    206492\n",
       "posicion_a         74626\n",
       "posicion_b         74626\n",
       "peso_a            147503\n",
       "peso_b            149343\n",
       "ganadas_a              0\n",
       "ganadas_b              0\n",
       "perdidas_a             0\n",
       "perdidas_b             0\n",
       "empatadas_a            0\n",
       "empatadas_b            0\n",
       "kos_a                  0\n",
       "kos_b                  0\n",
       "resultado              0\n",
       "decision               0\n",
       "juez1_a           200088\n",
       "juez1_b           200271\n",
       "juez2_a           184720\n",
       "juez2_b           185022\n",
       "juez3_a           192636\n",
       "juez3_b           192827\n",
       "dtype: int64"
      ]
     },
     "execution_count": 136,
     "metadata": {},
     "output_type": "execute_result"
    }
   ],
   "source": [
    "df.isnull().sum()"
   ]
  },
  {
   "cell_type": "code",
   "execution_count": 145,
   "metadata": {},
   "outputs": [],
   "source": [
    "df = df.drop(df[(df['altura_a'].isnull()) | (df['altura_b'].isnull())].index)"
   ]
  },
  {
   "cell_type": "code",
   "execution_count": 147,
   "metadata": {},
   "outputs": [
    {
     "data": {
      "text/plain": [
       "edad_a                0\n",
       "edad_b                0\n",
       "altura_a              0\n",
       "altura_b              0\n",
       "alcance_mano_a    50051\n",
       "alcance_mano_b    68792\n",
       "posicion_a        19487\n",
       "posicion_b        19487\n",
       "peso_a            55254\n",
       "peso_b            55548\n",
       "ganadas_a             0\n",
       "ganadas_b             0\n",
       "perdidas_a            0\n",
       "perdidas_b            0\n",
       "empatadas_a           0\n",
       "empatadas_b           0\n",
       "kos_a                 0\n",
       "kos_b                 0\n",
       "resultado             0\n",
       "decision              0\n",
       "juez1_a           77861\n",
       "juez1_b           77875\n",
       "juez2_a           69629\n",
       "juez2_b           69678\n",
       "juez3_a           73689\n",
       "juez3_b           73737\n",
       "dtype: int64"
      ]
     },
     "execution_count": 147,
     "metadata": {},
     "output_type": "execute_result"
    }
   ],
   "source": [
    "df.isnull().sum()"
   ]
  },
  {
   "cell_type": "code",
   "execution_count": 149,
   "metadata": {},
   "outputs": [],
   "source": [
    "df = df.drop([\"alcance_mano_a\", \"alcance_mano_b\"], axis=1)"
   ]
  },
  {
   "cell_type": "code",
   "execution_count": 152,
   "metadata": {},
   "outputs": [],
   "source": [
    "df = df.drop([\"decision\", \"juez1_a\", \"juez1_b\", \"juez2_a\", \"juez2_b\", \"juez3_a\", \"juez3_b\"], axis=1)"
   ]
  },
  {
   "cell_type": "code",
   "execution_count": 154,
   "metadata": {
    "scrolled": false
   },
   "outputs": [
    {
     "data": {
      "text/plain": [
       "edad_a             0\n",
       "edad_b             0\n",
       "altura_a           0\n",
       "altura_b           0\n",
       "posicion_a     19487\n",
       "posicion_b     19487\n",
       "peso_a         55254\n",
       "peso_b         55548\n",
       "ganadas_a          0\n",
       "ganadas_b          0\n",
       "perdidas_a         0\n",
       "perdidas_b         0\n",
       "empatadas_a        0\n",
       "empatadas_b        0\n",
       "kos_a              0\n",
       "kos_b              0\n",
       "resultado          0\n",
       "dtype: int64"
      ]
     },
     "execution_count": 154,
     "metadata": {},
     "output_type": "execute_result"
    }
   ],
   "source": [
    "df.isnull().sum()"
   ]
  },
  {
   "cell_type": "code",
   "execution_count": 155,
   "metadata": {},
   "outputs": [],
   "source": [
    "df.to_csv(\"hola.csv\")"
   ]
  },
  {
   "cell_type": "code",
   "execution_count": null,
   "metadata": {},
   "outputs": [],
   "source": []
  }
 ],
 "metadata": {
  "kernelspec": {
   "display_name": "Python 3",
   "language": "python",
   "name": "python3"
  },
  "language_info": {
   "codemirror_mode": {
    "name": "ipython",
    "version": 3
   },
   "file_extension": ".py",
   "mimetype": "text/x-python",
   "name": "python",
   "nbconvert_exporter": "python",
   "pygments_lexer": "ipython3",
   "version": "3.5.2"
  }
 },
 "nbformat": 4,
 "nbformat_minor": 2
}
